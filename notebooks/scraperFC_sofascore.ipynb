{
 "cells": [
  {
   "cell_type": "code",
   "execution_count": 2,
   "id": "b148deb1",
   "metadata": {},
   "outputs": [
    {
     "ename": "ModuleNotFoundError",
     "evalue": "No module named 'scraperFC'",
     "output_type": "error",
     "traceback": [
      "\u001b[0;31m---------------------------------------------------------------------------\u001b[0m",
      "\u001b[0;31mModuleNotFoundError\u001b[0m                       Traceback (most recent call last)",
      "Cell \u001b[0;32mIn [2], line 2\u001b[0m\n\u001b[1;32m      1\u001b[0m \u001b[38;5;66;03m# Using scraperFC sofascore module and get_match_dicts() get match dicts for this season 25-26 for all Premier League matches\u001b[39;00m\n\u001b[0;32m----> 2\u001b[0m \u001b[38;5;28;01mimport\u001b[39;00m \u001b[38;5;21;01mscraperFC\u001b[39;00m\u001b[38;5;21;01m.\u001b[39;00m\u001b[38;5;21;01msofascore\u001b[39;00m \u001b[38;5;28;01mas\u001b[39;00m \u001b[38;5;21;01msofascore\u001b[39;00m\n\u001b[1;32m      4\u001b[0m matches \u001b[38;5;241m=\u001b[39m sofascore\u001b[38;5;241m.\u001b[39mget_match_dicts(\u001b[38;5;241m2025\u001b[39m, \u001b[38;5;241m2026\u001b[39m, \u001b[38;5;124m\"\u001b[39m\u001b[38;5;124mPL\u001b[39m\u001b[38;5;124m\"\u001b[39m)\n\u001b[1;32m      6\u001b[0m \u001b[38;5;66;03m# flatten the list of match dicts\u001b[39;00m\n",
      "\u001b[0;31mModuleNotFoundError\u001b[0m: No module named 'scraperFC'"
     ]
    }
   ],
   "source": [
    "# Using scraperFC sofascore module and get_match_dicts() get match dicts for this season 25-26 for all Premier League matches\n",
    "import scraperFC.sofascore as sofascore\n",
    "\n",
    "matches = sofascore.get_match_dicts(2025, 2026, \"PL\")\n",
    "\n",
    "# flatten the list of match dicts\n",
    "matches = [m for match_list in matches for m in match_list]\n",
    "\n",
    "# print the first match\n",
    "print(matches[0])"
   ]
  },
  {
   "cell_type": "code",
   "execution_count": null,
   "id": "19760956",
   "metadata": {},
   "outputs": [],
   "source": []
  }
 ],
 "metadata": {
  "kernelspec": {
   "display_name": "Python 3",
   "language": "python",
   "name": "python3"
  },
  "language_info": {
   "codemirror_mode": {
    "name": "ipython",
    "version": 3
   },
   "file_extension": ".py",
   "mimetype": "text/x-python",
   "name": "python",
   "nbconvert_exporter": "python",
   "pygments_lexer": "ipython3",
   "version": "3.10.4"
  }
 },
 "nbformat": 4,
 "nbformat_minor": 5
}
